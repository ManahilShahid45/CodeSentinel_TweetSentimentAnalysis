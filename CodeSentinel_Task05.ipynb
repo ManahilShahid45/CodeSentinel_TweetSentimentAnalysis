{
 "cells": [
  {
   "cell_type": "markdown",
   "id": "c81adfce-bc4a-4919-ba81-3d7fabe10baa",
   "metadata": {},
   "source": [
    "# TASK 05"
   ]
  },
  {
   "cell_type": "code",
   "execution_count": 1,
   "id": "0867bcdb-35df-4714-95e4-18bce86b11d1",
   "metadata": {},
   "outputs": [
    {
     "name": "stdout",
     "output_type": "stream",
     "text": [
      "Requirement already satisfied: nltk in c:\\program files\\python313\\lib\\site-packages (3.9.1)\n",
      "Requirement already satisfied: textblob in c:\\program files\\python313\\lib\\site-packages (0.19.0)\n",
      "Requirement already satisfied: click in c:\\program files\\python313\\lib\\site-packages (from nltk) (8.2.1)\n",
      "Requirement already satisfied: joblib in c:\\program files\\python313\\lib\\site-packages (from nltk) (1.5.1)\n",
      "Requirement already satisfied: regex>=2021.8.3 in c:\\program files\\python313\\lib\\site-packages (from nltk) (2024.11.6)\n",
      "Requirement already satisfied: tqdm in c:\\program files\\python313\\lib\\site-packages (from nltk) (4.67.1)\n",
      "Requirement already satisfied: colorama in c:\\program files\\python313\\lib\\site-packages (from click->nltk) (0.4.6)\n"
     ]
    }
   ],
   "source": [
    "# Install required libraries first\n",
    "!pip install nltk textblob "
   ]
  },
  {
   "cell_type": "code",
   "execution_count": 2,
   "id": "2c1794c3-7fbc-4aca-9fad-868629c64d41",
   "metadata": {},
   "outputs": [
    {
     "name": "stderr",
     "output_type": "stream",
     "text": [
      "[nltk_data] Downloading package stopwords to\n",
      "[nltk_data]     C:\\Users\\PMLS\\AppData\\Roaming\\nltk_data...\n",
      "[nltk_data]   Package stopwords is already up-to-date!\n"
     ]
    }
   ],
   "source": [
    "# Import required libraries\n",
    "import pandas as pd\n",
    "import nltk\n",
    "from nltk.corpus import stopwords\n",
    "from textblob import TextBlob\n",
    "import matplotlib.pyplot as plt\n",
    "import string\n",
    "\n",
    "# Download stopwords \n",
    "nltk.download('stopwords')\n",
    "\n",
    "# Preprocess text\n",
    "def preprocess_text(text):\n",
    "    \"\"\"Lowercase, remove punctuation and stopwords\"\"\"\n",
    "    text = text.lower()\n",
    "    text = text.translate(str.maketrans('', '', string.punctuation))\n",
    "    stop_words = set(stopwords.words('english'))\n",
    "    words = text.split()\n",
    "    words = [word for word in words if word not in stop_words]\n",
    "    return ' '.join(words)"
   ]
  },
  {
   "cell_type": "code",
   "execution_count": 3,
   "id": "14330492-74f6-47c5-bd2a-5e7062c6d98f",
   "metadata": {},
   "outputs": [],
   "source": [
    "def get_sentiment(text):\n",
    "    \"\"\"Return sentiment label based on polarity\"\"\"\n",
    "    blob = TextBlob(text)\n",
    "    polarity = blob.sentiment.polarity\n",
    "    if polarity > 0:\n",
    "        return 'Positive'\n",
    "    elif polarity < 0:\n",
    "        return 'Negative'\n",
    "    else:\n",
    "        return 'Neutral'"
   ]
  },
  {
   "cell_type": "code",
   "execution_count": 4,
   "id": "45b2d64c-6e9a-4216-a19f-e2501648d55c",
   "metadata": {},
   "outputs": [
    {
     "name": "stdout",
     "output_type": "stream",
     "text": [
      "First few rows of the dataset:\n",
      "                                                text\n",
      "0   I love learning about data science! #DataScience\n",
      "1  Data science is so hard, I feel like giving up...\n",
      "2  I'm neutral about machine learning. It's okay....\n",
      "3  Just got a job as a data scientist, feeling am...\n",
      "4     The results of my model were terrible... #fail\n",
      "\n",
      "Sentiment distribution:\n",
      "sentiment\n",
      "Positive    5\n",
      "Negative    4\n",
      "Neutral     1\n",
      "Name: count, dtype: int64\n"
     ]
    },
    {
     "data": {
      "image/png": "[encoded data removed]",
      "text/plain": [
       "<Figure size 640x480 with 1 Axes>"
      ]
     },
     "metadata": {},
     "output_type": "display_data"
    }
   ],
   "source": [
    "\n",
    "def main():\n",
    "    # Load the CSV file\n",
    "    df = pd.read_csv('C:/Users/PMLS/OneDrive/Desktop/sample_tweets/sample_tweets.csv')  \n",
    "    print(\"First few rows of the dataset:\")\n",
    "    print(df.head())\n",
    "\n",
    "    # Preprocess the text\n",
    "    df['text'] = df['text'].astype(str)\n",
    "    df['cleaned_text'] = df['text'].apply(preprocess_text)\n",
    "\n",
    "    # Apply sentiment analysis\n",
    "    df['sentiment'] = df['cleaned_text'].apply(get_sentiment)\n",
    "\n",
    "    # Show sentiment distribution\n",
    "    sentiment_counts = df['sentiment'].value_counts()\n",
    "    print(\"\\nSentiment distribution:\")\n",
    "    print(sentiment_counts)\n",
    "\n",
    "    # Plotting\n",
    "    colors = {'Positive': 'green', 'Negative': 'red', 'Neutral': 'gray'}\n",
    "    sentiment_counts.plot(kind='bar', color=[colors.get(x) for x in sentiment_counts.index])\n",
    "    plt.title('Sentiment Analysis of Tweets')\n",
    "    plt.xlabel('Sentiment')\n",
    "    plt.ylabel('Number of Tweets')\n",
    "    plt.xticks(rotation=0)\n",
    "    plt.tight_layout()\n",
    "    plt.show()\n",
    "\n",
    "# Entry point\n",
    "if __name__ == '__main__':\n",
    "    main()"
   ]
  }
 ],
 "metadata": {
  "kernelspec": {
   "display_name": "Python 3 (ipykernel)",
   "language": "python",
   "name": "python3"
  },
  "language_info": {
   "codemirror_mode": {
    "name": "ipython",
    "version": 3
   },
   "file_extension": ".py",
   "mimetype": "text/x-python",
   "name": "python",
   "nbconvert_exporter": "python",
   "pygments_lexer": "ipython3",
   "version": "3.13.1"
  }
 },
 "nbformat": 4,
 "nbformat_minor": 5
}
